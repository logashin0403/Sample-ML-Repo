{
 "cells": [
  {
   "cell_type": "code",
   "execution_count": 295,
   "metadata": {},
   "outputs": [],
   "source": [
    "import pandas as pd\n",
    "import numpy as np\n",
    "from sklearn.preprocessing import OneHotEncoder\n",
    "from sklearn.model_selection import train_test_split\n",
    "from sklearn.linear_model import LogisticRegression\n",
    "from sklearn.metrics import accuracy_score\n",
    "from sklearn.neighbors import KNeighborsClassifier"
   ]
  },
  {
   "cell_type": "code",
   "execution_count": null,
   "metadata": {},
   "outputs": [],
   "source": []
  },
  {
   "cell_type": "code",
   "execution_count": 299,
   "metadata": {},
   "outputs": [],
   "source": [
    "data = pd.read_csv(\"C:\\\\Users\\Админ\\\\Desktop\\\\pandas\\\\train.csv\")\n",
    "target = data[\"TARGET\"]"
   ]
  },
  {
   "cell_type": "code",
   "execution_count": 300,
   "metadata": {},
   "outputs": [
    {
     "data": {
      "text/html": [
       "<div>\n",
       "<style scoped>\n",
       "    .dataframe tbody tr th:only-of-type {\n",
       "        vertical-align: middle;\n",
       "    }\n",
       "\n",
       "    .dataframe tbody tr th {\n",
       "        vertical-align: top;\n",
       "    }\n",
       "\n",
       "    .dataframe thead th {\n",
       "        text-align: right;\n",
       "    }\n",
       "</style>\n",
       "<table border=\"1\" class=\"dataframe\">\n",
       "  <thead>\n",
       "    <tr style=\"text-align: right;\">\n",
       "      <th></th>\n",
       "      <th>Id</th>\n",
       "      <th>bathrooms</th>\n",
       "      <th>bedrooms</th>\n",
       "      <th>building_id</th>\n",
       "      <th>created</th>\n",
       "      <th>description</th>\n",
       "      <th>display_address</th>\n",
       "      <th>features</th>\n",
       "      <th>latitude</th>\n",
       "      <th>listing_id</th>\n",
       "      <th>longitude</th>\n",
       "      <th>manager_id</th>\n",
       "      <th>photos</th>\n",
       "      <th>price</th>\n",
       "      <th>street_address</th>\n",
       "      <th>TARGET</th>\n",
       "    </tr>\n",
       "  </thead>\n",
       "  <tbody>\n",
       "    <tr>\n",
       "      <th>0</th>\n",
       "      <td>57094</td>\n",
       "      <td>1.0</td>\n",
       "      <td>3</td>\n",
       "      <td>0</td>\n",
       "      <td>2016-05-19 18:06:27</td>\n",
       "      <td>A FABULOUS 3BR IN MIDTOWN WEST!   PERFECT APAR...</td>\n",
       "      <td>HOW AMAZING IS THIS MIDTOWN WEST STEAL!! NO FE...</td>\n",
       "      <td>['Laundry In Unit', 'No Fee', 'Elevator']</td>\n",
       "      <td>40.7647</td>\n",
       "      <td>7039994</td>\n",
       "      <td>-73.9918</td>\n",
       "      <td>4bdc3d8c1aaa90d997ce2cb77680679b</td>\n",
       "      <td>['https://photos.renthop.com/2/7039994_07be01b...</td>\n",
       "      <td>4495</td>\n",
       "      <td>W 50 &amp; AVE 10</td>\n",
       "      <td>medium</td>\n",
       "    </tr>\n",
       "    <tr>\n",
       "      <th>1</th>\n",
       "      <td>33389</td>\n",
       "      <td>1.0</td>\n",
       "      <td>1</td>\n",
       "      <td>9225efdfb57a50bf3ec17ebab082f94a</td>\n",
       "      <td>2016-06-16 02:01:49</td>\n",
       "      <td>Renovated Kitchen and Bathroom!</td>\n",
       "      <td>55 River Drive South</td>\n",
       "      <td>['Dogs Allowed', 'Cats Allowed', 'No Fee']</td>\n",
       "      <td>40.7275</td>\n",
       "      <td>7166774</td>\n",
       "      <td>-74.0322</td>\n",
       "      <td>e5808a5e6cc13988fe596704428d38d5</td>\n",
       "      <td>['https://photos.renthop.com/2/7166774_03cf63a...</td>\n",
       "      <td>2570</td>\n",
       "      <td>55 River Drive South</td>\n",
       "      <td>medium</td>\n",
       "    </tr>\n",
       "    <tr>\n",
       "      <th>2</th>\n",
       "      <td>60458</td>\n",
       "      <td>1.0</td>\n",
       "      <td>0</td>\n",
       "      <td>320de7d3cc88e50a7fbbcfde1e825d21</td>\n",
       "      <td>2016-05-04 02:42:50</td>\n",
       "      <td>RARE AND BEST DEAL ON THE MARKET!!!! PERFECT S...</td>\n",
       "      <td>W 77 Street</td>\n",
       "      <td>['Elevator', 'Hardwood Floors']</td>\n",
       "      <td>40.7798</td>\n",
       "      <td>6962716</td>\n",
       "      <td>-73.9751</td>\n",
       "      <td>d69d4e111612dd12ef864031c1148543</td>\n",
       "      <td>['https://photos.renthop.com/2/6962716_ec7f56f...</td>\n",
       "      <td>1795</td>\n",
       "      <td>22 W 77 Street</td>\n",
       "      <td>low</td>\n",
       "    </tr>\n",
       "  </tbody>\n",
       "</table>\n",
       "</div>"
      ],
      "text/plain": [
       "      Id  bathrooms  bedrooms                       building_id  \\\n",
       "0  57094        1.0         3                                 0   \n",
       "1  33389        1.0         1  9225efdfb57a50bf3ec17ebab082f94a   \n",
       "2  60458        1.0         0  320de7d3cc88e50a7fbbcfde1e825d21   \n",
       "\n",
       "               created                                        description  \\\n",
       "0  2016-05-19 18:06:27  A FABULOUS 3BR IN MIDTOWN WEST!   PERFECT APAR...   \n",
       "1  2016-06-16 02:01:49                    Renovated Kitchen and Bathroom!   \n",
       "2  2016-05-04 02:42:50  RARE AND BEST DEAL ON THE MARKET!!!! PERFECT S...   \n",
       "\n",
       "                                     display_address  \\\n",
       "0  HOW AMAZING IS THIS MIDTOWN WEST STEAL!! NO FE...   \n",
       "1                               55 River Drive South   \n",
       "2                                        W 77 Street   \n",
       "\n",
       "                                     features  latitude  listing_id  \\\n",
       "0   ['Laundry In Unit', 'No Fee', 'Elevator']   40.7647     7039994   \n",
       "1  ['Dogs Allowed', 'Cats Allowed', 'No Fee']   40.7275     7166774   \n",
       "2             ['Elevator', 'Hardwood Floors']   40.7798     6962716   \n",
       "\n",
       "   longitude                        manager_id  \\\n",
       "0   -73.9918  4bdc3d8c1aaa90d997ce2cb77680679b   \n",
       "1   -74.0322  e5808a5e6cc13988fe596704428d38d5   \n",
       "2   -73.9751  d69d4e111612dd12ef864031c1148543   \n",
       "\n",
       "                                              photos  price  \\\n",
       "0  ['https://photos.renthop.com/2/7039994_07be01b...   4495   \n",
       "1  ['https://photos.renthop.com/2/7166774_03cf63a...   2570   \n",
       "2  ['https://photos.renthop.com/2/6962716_ec7f56f...   1795   \n",
       "\n",
       "         street_address  TARGET  \n",
       "0         W 50 & AVE 10  medium  \n",
       "1  55 River Drive South  medium  \n",
       "2        22 W 77 Street     low  "
      ]
     },
     "execution_count": 300,
     "metadata": {},
     "output_type": "execute_result"
    }
   ],
   "source": [
    "data[:3]"
   ]
  },
  {
   "cell_type": "code",
   "execution_count": 301,
   "metadata": {},
   "outputs": [],
   "source": [
    "data.drop([\"building_id\", \"description\", \"manager_id\", \"display_address\", \"created\", \"TARGET\", \"Id\", \"listing_id\"], \n",
    "          axis=1, inplace=True)"
   ]
  },
  {
   "cell_type": "code",
   "execution_count": 302,
   "metadata": {},
   "outputs": [],
   "source": [
    "data[\"price\"] = data[\"price\"].apply(lambda x: np.log(x))"
   ]
  },
  {
   "cell_type": "code",
   "execution_count": 303,
   "metadata": {},
   "outputs": [
    {
     "data": {
      "text/plain": [
       "(34546, 8)"
      ]
     },
     "execution_count": 303,
     "metadata": {},
     "output_type": "execute_result"
    }
   ],
   "source": [
    "data.shape"
   ]
  },
  {
   "cell_type": "code",
   "execution_count": 304,
   "metadata": {},
   "outputs": [],
   "source": [
    "data[\"photos\"] = data[\"photos\"].apply(lambda x: len((x).split(\",\")))"
   ]
  },
  {
   "cell_type": "code",
   "execution_count": 305,
   "metadata": {},
   "outputs": [],
   "source": [
    "dt = dict()\n",
    "\n",
    "for i in data[\"features\"]:\n",
    "    i = i.replace(\"'\", \"\").replace(\"[\", \"\").replace(\"]\", \"\").replace(\" \", \"\").split(\",\")\n",
    "    for j in i:\n",
    "        dt[j] = 1 if dt.get(j, -1) == -1 else dt[j] + 1"
   ]
  },
  {
   "cell_type": "code",
   "execution_count": 306,
   "metadata": {},
   "outputs": [],
   "source": [
    "most_popular_features = []\n",
    "\n",
    "for k, v in dt.items():\n",
    "    if v >= 100:\n",
    "        most_popular_features.append(k)"
   ]
  },
  {
   "cell_type": "code",
   "execution_count": 307,
   "metadata": {},
   "outputs": [
    {
     "data": {
      "text/plain": [
       "63"
      ]
     },
     "execution_count": 307,
     "metadata": {},
     "output_type": "execute_result"
    }
   ],
   "source": [
    "len(most_popular_features)"
   ]
  },
  {
   "cell_type": "code",
   "execution_count": 308,
   "metadata": {},
   "outputs": [],
   "source": [
    "def get_feature(list_features):\n",
    "    list_features = list_features.replace(\"'\", \"\").replace(\"[\", \"\").replace(\"]\", \"\").replace(\" \", \"\").split(\",\")\n",
    "    for j in list_features:\n",
    "        if j in most_popular_features:\n",
    "            return j\n",
    "    \n",
    "    return \"nn\""
   ]
  },
  {
   "cell_type": "code",
   "execution_count": 309,
   "metadata": {},
   "outputs": [],
   "source": [
    "data[\"features\"] = data[\"features\"].apply(lambda x: get_feature(x))"
   ]
  },
  {
   "cell_type": "code",
   "execution_count": 310,
   "metadata": {},
   "outputs": [],
   "source": [
    "address = data[\"street_address\"]"
   ]
  },
  {
   "cell_type": "code",
   "execution_count": 311,
   "metadata": {},
   "outputs": [],
   "source": [
    "dt_address = dict()\n",
    "\n",
    "for i in address:\n",
    "    dt_address[i] = 1 if dt_address.get(i, -1) == -1 else dt_address[i] + 1"
   ]
  },
  {
   "cell_type": "code",
   "execution_count": 312,
   "metadata": {},
   "outputs": [],
   "source": [
    "most_popular_addresses = []\n",
    "\n",
    "for k, v in dt_address.items():\n",
    "    if v >= 40:\n",
    "        most_popular_addresses.append(k)"
   ]
  },
  {
   "cell_type": "code",
   "execution_count": 313,
   "metadata": {},
   "outputs": [
    {
     "data": {
      "text/plain": [
       "44"
      ]
     },
     "execution_count": 313,
     "metadata": {},
     "output_type": "execute_result"
    }
   ],
   "source": [
    "len(most_popular_addresses)"
   ]
  },
  {
   "cell_type": "code",
   "execution_count": 314,
   "metadata": {},
   "outputs": [],
   "source": [
    "address = address.apply(lambda x: x if x in most_popular_addresses else \"na\")"
   ]
  },
  {
   "cell_type": "code",
   "execution_count": 315,
   "metadata": {},
   "outputs": [],
   "source": [
    "data.drop(\"street_address\", axis=1, inplace=True)"
   ]
  },
  {
   "cell_type": "code",
   "execution_count": 316,
   "metadata": {},
   "outputs": [],
   "source": [
    "data[\"street_address\"] = address"
   ]
  },
  {
   "cell_type": "code",
   "execution_count": 317,
   "metadata": {},
   "outputs": [],
   "source": [
    "data = pd.get_dummies(data)"
   ]
  },
  {
   "cell_type": "code",
   "execution_count": 318,
   "metadata": {},
   "outputs": [
    {
     "name": "stdout",
     "output_type": "stream",
     "text": [
      "<class 'pandas.core.frame.DataFrame'>\n",
      "RangeIndex: 34546 entries, 0 to 34545\n",
      "Data columns (total 100 columns):\n",
      " #   Column                                Non-Null Count  Dtype  \n",
      "---  ------                                --------------  -----  \n",
      " 0   bathrooms                             34546 non-null  float64\n",
      " 1   bedrooms                              34546 non-null  int64  \n",
      " 2   latitude                              34546 non-null  float64\n",
      " 3   longitude                             34546 non-null  float64\n",
      " 4   photos                                34546 non-null  int64  \n",
      " 5   price                                 34546 non-null  float64\n",
      " 6   features_                             34546 non-null  uint8  \n",
      " 7   features_Balcony                      34546 non-null  uint8  \n",
      " 8   features_CatsAllowed                  34546 non-null  uint8  \n",
      " 9   features_CommonOutdoorSpace           34546 non-null  uint8  \n",
      " 10  features_DiningRoom                   34546 non-null  uint8  \n",
      " 11  features_Dishwasher                   34546 non-null  uint8  \n",
      " 12  features_DogsAllowed                  34546 non-null  uint8  \n",
      " 13  features_Doorman                      34546 non-null  uint8  \n",
      " 14  features_Elevator                     34546 non-null  uint8  \n",
      " 15  features_Exclusive                    34546 non-null  uint8  \n",
      " 16  features_Fireplace                    34546 non-null  uint8  \n",
      " 17  features_FitnessCenter                34546 non-null  uint8  \n",
      " 18  features_Furnished                    34546 non-null  uint8  \n",
      " 19  features_Garage                       34546 non-null  uint8  \n",
      " 20  features_Garden/Patio                 34546 non-null  uint8  \n",
      " 21  features_HardwoodFloors               34546 non-null  uint8  \n",
      " 22  features_HighCeilings                 34546 non-null  uint8  \n",
      " 23  features_HighSpeedInternet            34546 non-null  uint8  \n",
      " 24  features_LaundryInBuilding            34546 non-null  uint8  \n",
      " 25  features_LaundryInUnit                34546 non-null  uint8  \n",
      " 26  features_LaundryRoom                  34546 non-null  uint8  \n",
      " 27  features_LaundryinBuilding            34546 non-null  uint8  \n",
      " 28  features_LaundryinUnit                34546 non-null  uint8  \n",
      " 29  features_Loft                         34546 non-null  uint8  \n",
      " 30  features_Multi-Level                  34546 non-null  uint8  \n",
      " 31  features_NewConstruction              34546 non-null  uint8  \n",
      " 32  features_Newlyrenovated               34546 non-null  uint8  \n",
      " 33  features_NoFee                        34546 non-null  uint8  \n",
      " 34  features_On-siteGarage                34546 non-null  uint8  \n",
      " 35  features_On-sitelaundry               34546 non-null  uint8  \n",
      " 36  features_OutdoorSpace                 34546 non-null  uint8  \n",
      " 37  features_ParkingSpace                 34546 non-null  uint8  \n",
      " 38  features_Pool                         34546 non-null  uint8  \n",
      " 39  features_Pre-War                      34546 non-null  uint8  \n",
      " 40  features_Prewar                       34546 non-null  uint8  \n",
      " 41  features_PrivateOutdoorSpace          34546 non-null  uint8  \n",
      " 42  features_ReducedFee                   34546 non-null  uint8  \n",
      " 43  features_Renovated                    34546 non-null  uint8  \n",
      " 44  features_RoofDeck                     34546 non-null  uint8  \n",
      " 45  features_StainlessSteelAppliances     34546 non-null  uint8  \n",
      " 46  features_Storage                      34546 non-null  uint8  \n",
      " 47  features_SwimmingPool                 34546 non-null  uint8  \n",
      " 48  features_Terrace                      34546 non-null  uint8  \n",
      " 49  features_Washer/Dryer                 34546 non-null  uint8  \n",
      " 50  features_WasherinUnit                 34546 non-null  uint8  \n",
      " 51  features_dishwasher                   34546 non-null  uint8  \n",
      " 52  features_elevator                     34546 non-null  uint8  \n",
      " 53  features_nn                           34546 non-null  uint8  \n",
      " 54  features_prewar                       34546 non-null  uint8  \n",
      " 55  street_address_1 Astor Place          34546 non-null  uint8  \n",
      " 56  street_address_1 West St.             34546 non-null  uint8  \n",
      " 57  street_address_1 West Street          34546 non-null  uint8  \n",
      " 58  street_address_10 Hanover Square      34546 non-null  uint8  \n",
      " 59  street_address_100 John Street        34546 non-null  uint8  \n",
      " 60  street_address_100 Maiden Lane        34546 non-null  uint8  \n",
      " 61  street_address_140 East 46th Street   34546 non-null  uint8  \n",
      " 62  street_address_145 East 16th Street   34546 non-null  uint8  \n",
      " 63  street_address_150 East 39th Street   34546 non-null  uint8  \n",
      " 64  street_address_166 Second Avenue      34546 non-null  uint8  \n",
      " 65  street_address_2 Gold Street          34546 non-null  uint8  \n",
      " 66  street_address_20 Exchange Place      34546 non-null  uint8  \n",
      " 67  street_address_200 East 72nd Street   34546 non-null  uint8  \n",
      " 68  street_address_200 Water Street       34546 non-null  uint8  \n",
      " 69  street_address_236 East 36th Street   34546 non-null  uint8  \n",
      " 70  street_address_260 West 54th Street   34546 non-null  uint8  \n",
      " 71  street_address_301 East 47th Street   34546 non-null  uint8  \n",
      " 72  street_address_323 W 96 St.           34546 non-null  uint8  \n",
      " 73  street_address_326 East 35th Street   34546 non-null  uint8  \n",
      " 74  street_address_330 East 46th Street   34546 non-null  uint8  \n",
      " 75  street_address_3333 Broadway          34546 non-null  uint8  \n",
      " 76  street_address_340 East 29th Street   34546 non-null  uint8  \n",
      " 77  street_address_360 W 34 St.           34546 non-null  uint8  \n",
      " 78  street_address_360 West 34th Street   34546 non-null  uint8  \n",
      " 79  street_address_401 East 34th Street   34546 non-null  uint8  \n",
      " 80  street_address_45 Wall Street         34546 non-null  uint8  \n",
      " 81  street_address_50 West 34th Street    34546 non-null  uint8  \n",
      " 82  street_address_505 W 37 St.           34546 non-null  uint8  \n",
      " 83  street_address_505 West 37th Street   34546 non-null  uint8  \n",
      " 84  street_address_520 2nd Ave.           34546 non-null  uint8  \n",
      " 85  street_address_520 West 43rd Street   34546 non-null  uint8  \n",
      " 86  street_address_550 West 54th Street   34546 non-null  uint8  \n",
      " 87  street_address_560 W 43 St.           34546 non-null  uint8  \n",
      " 88  street_address_561 10 Ave.            34546 non-null  uint8  \n",
      " 89  street_address_60 Water Street        34546 non-null  uint8  \n",
      " 90  street_address_620 West 42nd Street   34546 non-null  uint8  \n",
      " 91  street_address_71 Broadway            34546 non-null  uint8  \n",
      " 92  street_address_8 Spruce Street        34546 non-null  uint8  \n",
      " 93  street_address_888 Eighth Avenue      34546 non-null  uint8  \n",
      " 94  street_address_90 Washington Street   34546 non-null  uint8  \n",
      " 95  street_address_90 West Street         34546 non-null  uint8  \n",
      " 96  street_address_95 Christopher Street  34546 non-null  uint8  \n",
      " 97  street_address_95 Wall Street         34546 non-null  uint8  \n",
      " 98  street_address_990 6 Ave.             34546 non-null  uint8  \n",
      " 99  street_address_na                     34546 non-null  uint8  \n",
      "dtypes: float64(4), int64(2), uint8(94)\n",
      "memory usage: 4.7 MB\n"
     ]
    }
   ],
   "source": [
    "data.info()\n",
    "\n",
    "# 100 колонок стало после всех обработки признаков"
   ]
  },
  {
   "cell_type": "code",
   "execution_count": null,
   "metadata": {},
   "outputs": [],
   "source": []
  },
  {
   "cell_type": "code",
   "execution_count": 319,
   "metadata": {},
   "outputs": [],
   "source": [
    "x_train, x_test, y_train, y_test = train_test_split(data, target, test_size= 0.3, random_state=42)"
   ]
  },
  {
   "attachments": {
    "image.png": {
     "image/png": "[encoded data removed]"
    }
   },
   "cell_type": "markdown",
   "metadata": {},
   "source": [
    "![image.png](attachment:image.png)"
   ]
  },
  {
   "cell_type": "code",
   "execution_count": 320,
   "metadata": {},
   "outputs": [],
   "source": [
    "neigh = KNeighborsClassifier(n_neighbors=8)"
   ]
  },
  {
   "cell_type": "code",
   "execution_count": 321,
   "metadata": {},
   "outputs": [
    {
     "data": {
      "text/plain": [
       "KNeighborsClassifier(n_neighbors=8)"
      ]
     },
     "execution_count": 321,
     "metadata": {},
     "output_type": "execute_result"
    }
   ],
   "source": [
    "neigh.fit(x_train, y_train)"
   ]
  },
  {
   "cell_type": "code",
   "execution_count": 322,
   "metadata": {},
   "outputs": [],
   "source": [
    "y_pred = neigh.predict(x_test)"
   ]
  },
  {
   "cell_type": "code",
   "execution_count": 323,
   "metadata": {},
   "outputs": [
    {
     "name": "stdout",
     "output_type": "stream",
     "text": [
      "0.6868004631416441\n"
     ]
    }
   ],
   "source": [
    "print(accuracy_score(y_test, y_pred))"
   ]
  },
  {
   "cell_type": "code",
   "execution_count": null,
   "metadata": {},
   "outputs": [],
   "source": []
  },
  {
   "cell_type": "markdown",
   "metadata": {},
   "source": [
    "Вывод про данные:\n",
    "Выкинул ненужные данные по типу айдишников и т д.\n",
    "Выкинул признак \"description\" ибо там есть очень огромные и не ценные описания.\n",
    "Обработал признак \"photo\", взял число(количество фото)\n",
    "Обработал поле \"features\" и \"street_address\", применил one-hot кодирование, только выбирал не все фичии районы, а\n",
    "только самые популярные.\n",
    "Также прологорифмировал поле price, это дало очень небольшой, но прирост."
   ]
  },
  {
   "cell_type": "markdown",
   "metadata": {},
   "source": [
    "Вывод по моделированию:\n",
    "\n",
    "Я выбрал модель логистической регрессии, на ней я получил точность очень низкую, порядка 56.\n",
    "По итогу я решил выбрать KNN, анализ K приведён на картинке выше."
   ]
  }
 ],
 "metadata": {
  "colab": {
   "collapsed_sections": [],
   "name": "Добро пожаловать в Colaboratory!",
   "provenance": [],
   "toc_visible": true
  },
  "kernelspec": {
   "display_name": "Python 3 (ipykernel)",
   "language": "python",
   "name": "python3"
  },
  "language_info": {
   "codemirror_mode": {
    "name": "ipython",
    "version": 3
   },
   "file_extension": ".py",
   "mimetype": "text/x-python",
   "name": "python",
   "nbconvert_exporter": "python",
   "pygments_lexer": "ipython3",
   "version": "3.10.0"
  }
 },
 "nbformat": 4,
 "nbformat_minor": 1
}
